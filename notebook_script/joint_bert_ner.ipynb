{
 "cells": [
  {
   "cell_type": "code",
   "execution_count": 1,
   "metadata": {},
   "outputs": [],
   "source": [
    "import sys\n",
    "sys.path.append('../')"
   ]
  },
  {
   "cell_type": "code",
   "execution_count": 2,
   "metadata": {},
   "outputs": [],
   "source": [
    "class CFG:\n",
    "    def __init__(self):\n",
    "        self.dataset='DuEE1.0'\n",
    "        self.event_type='trigger'\n",
    "        self.max_len=200\n",
    "        self.per_gpu_train_batch_size=16\n",
    "        self.per_gpu_eval_batch_size=32\n",
    "        self.model_name_or_path='F:/prev_trained_model/rbt3'\n",
    "        self.linear_learning_rate=1e-4\n",
    "        self.early_stop=5\n",
    "        self.seed=1\n",
    "        self.output_dir='../output'\n",
    "        self.num_train_epochs=50\n",
    "        self.weight_decay=0.01\n",
    "        self.learning_rate=1e-5\n",
    "        self.adam_epsilon=1e-8"
   ]
  },
  {
   "cell_type": "code",
   "execution_count": 3,
   "metadata": {},
   "outputs": [],
   "source": [
    "import copy\n",
    "import json\n",
    "import os\n",
    "import time\n",
    "\n",
    "import torch\n",
    "import torch.nn as nn\n",
    "from torch.utils.data import DataLoader\n",
    "from transformers import BertTokenizerFast, AdamW\n",
    "\n",
    "from dataset.dataset import joint_collate_fn,DuEEJointDataset\n",
    "from metric.metric import ChunkEvaluator\n",
    "from model.model import DuEEEvent_model\n",
    "from utils.finetuning_argparse import get_argparse\n",
    "from utils.utils import init_logger, seed_everything, logger, ProgressBar\n",
    "\n",
    "\n",
    "\n",
    "\n",
    "\n",
    "def main():\n",
    "    args = get_argparse().parse_args()\n",
    "    print(json.dumps(vars(args), sort_keys=True, indent=4, separators=(', ', ': '), ensure_ascii=False))\n",
    "    init_logger(log_file=\"./log/{}.log\".format(time.strftime(\"%Y-%m-%d-%H-%M-%S\", time.localtime())))\n",
    "    seed_everything(args.seed)\n",
    "\n",
    "    args.output_model_path = os.path.join(args.output_dir, args.dataset, args.event_type, \"best_model.pkl\")\n",
    "    # 设置保存目录\n",
    "    if not os.path.exists(os.path.dirname(args.output_model_path)):\n",
    "        os.makedirs(os.path.dirname(args.output_model_path))\n",
    "\n",
    "    # device\n",
    "    args.device = torch.device(\"cuda\" if torch.cuda.is_available() else \"cpu\")\n",
    "\n",
    "    # tokenizer\n",
    "    tokenizer = BertTokenizerFast.from_pretrained(args.model_name_or_path)\n",
    "\n",
    "    # dataset & dataloader\n",
    "    args.train_data = \"./data/{}/{}/train.tsv\".format(args.dataset, args.event_type)\n",
    "    args.dev_data = \"./data/{}/{}/dev.tsv\".format(args.dataset, args.event_type)\n",
    "    args.tag_path = \"./conf/{}/{}_tag.dict\".format(args.dataset, args.event_type)\n",
    "    train_dataset = DuEEEventDataset(args,\n",
    "                                     args.train_data,\n",
    "                                     args.tag_path,\n",
    "                                     tokenizer)\n",
    "    eval_dataset = DuEEEventDataset(args,\n",
    "                                    args.dev_data,\n",
    "                                    args.tag_path,\n",
    "                                    tokenizer)\n",
    "    logger.info(\"The nums of the train_dataset features is {}\".format(len(train_dataset)))\n",
    "    logger.info(\"The nums of the eval_dataset features is {}\".format(len(eval_dataset)))\n",
    "    train_iter = DataLoader(train_dataset,\n",
    "                            shuffle=True,\n",
    "                            batch_size=args.per_gpu_train_batch_size,\n",
    "                            collate_fn=collate_fn,\n",
    "                            num_workers=20)\n",
    "    eval_iter = DataLoader(eval_dataset,\n",
    "                           shuffle=False,\n",
    "                           batch_size=args.per_gpu_eval_batch_size,\n",
    "                           collate_fn=collate_fn,\n",
    "                           num_workers=20)\n",
    "\n",
    "    # 用于evaluate\n",
    "    args.id2label = train_dataset.label_vocab\n",
    "    args.num_classes = len(args.id2label)\n",
    "    metric = ChunkEvaluator(label_list=args.id2label.keys(), suffix=False)\n",
    "\n",
    "    # model\n",
    "    model = DuEEEvent_model(args.model_name_or_path, num_classes=args.num_classes)\n",
    "    model.to(args.device)\n",
    "\n",
    "    best_f1 = 0\n",
    "    early_stop = 0\n",
    "    for epoch, _ in enumerate(range(int(args.num_train_epochs))):\n",
    "        model.train()\n",
    "        train(args, train_iter, model)\n",
    "        eval_p, eval_r, eval_f1, eval_loss = evaluate(args, eval_iter, model, metric)\n",
    "        logger.info(\n",
    "            \"The F1-score is {}\".format(eval_f1)\n",
    "        )\n",
    "        if eval_f1 > best_f1:\n",
    "            early_stop = 0\n",
    "            best_f1 = eval_f1\n",
    "            logger.info(\"the best eval f1 is {:.4f}, saving model !!\".format(best_f1))\n",
    "            best_model = copy.deepcopy(model.module if hasattr(model, \"module\") else model)\n",
    "            torch.save(best_model.state_dict(), args.output_model_path)\n",
    "        else:\n",
    "            early_stop += 1\n",
    "            if early_stop == args.early_stop:\n",
    "                logger.info(\"Early stop in {} epoch!\".format(epoch))\n",
    "                break"
   ]
  },
  {
   "cell_type": "code",
   "execution_count": 4,
   "metadata": {},
   "outputs": [
    {
     "name": "stdout",
     "output_type": "stream",
     "text": [
      "{\n",
      "    \"adam_epsilon\": 1e-08, \n",
      "    \"dataset\": \"DuEE1.0\", \n",
      "    \"early_stop\": 5, \n",
      "    \"event_type\": \"trigger\", \n",
      "    \"learning_rate\": 1e-05, \n",
      "    \"linear_learning_rate\": 0.0001, \n",
      "    \"max_len\": 200, \n",
      "    \"model_name_or_path\": \"F:/prev_trained_model/rbt3\", \n",
      "    \"num_train_epochs\": 50, \n",
      "    \"output_dir\": \"../output\", \n",
      "    \"per_gpu_eval_batch_size\": 32, \n",
      "    \"per_gpu_train_batch_size\": 16, \n",
      "    \"seed\": 1, \n",
      "    \"weight_decay\": 0.01\n",
      "}\n"
     ]
    },
    {
     "name": "stderr",
     "output_type": "stream",
     "text": [
      "tokenizing...: 100%|███████████████████████████████████████████████████████████| 11958/11958 [00:07<00:00, 1629.01it/s]\n",
      "tokenizing...: 100%|███████████████████████████████████████████████████████████| 13915/13915 [00:09<00:00, 1530.08it/s]\n",
      "tokenizing...: 100%|█████████████████████████████████████████████████████████████| 1498/1498 [00:00<00:00, 1615.91it/s]\n",
      "tokenizing...: 100%|█████████████████████████████████████████████████████████████| 1790/1790 [00:01<00:00, 1507.97it/s]\n",
      "05/14/2021 16:29:12 - INFO - root -   The nums of the train_dataset features is 13915\n",
      "05/14/2021 16:29:12 - INFO - root -   The nums of the eval_dataset features is 1790\n"
     ]
    }
   ],
   "source": [
    "args=CFG()\n",
    "\n",
    "print(json.dumps(vars(args), sort_keys=True, indent=4, separators=(', ', ': '), ensure_ascii=False))\n",
    "init_logger(log_file=\".././log/{}.log\".format(time.strftime(\"%Y-%m-%d-%H-%M-%S\", time.localtime())))\n",
    "seed_everything(args.seed)\n",
    "\n",
    "args.output_model_path = os.path.join(args.output_dir, args.dataset, args.event_type, \"best_model.pkl\")\n",
    "# 设置保存目录\n",
    "if not os.path.exists(os.path.dirname(args.output_model_path)):\n",
    "    os.makedirs(os.path.dirname(args.output_model_path))\n",
    "\n",
    "# device\n",
    "args.device = torch.device(\"cuda\" if torch.cuda.is_available() else \"cpu\")\n",
    "\n",
    "# tokenizer\n",
    "tokenizer = BertTokenizerFast.from_pretrained(args.model_name_or_path)\n",
    "\n",
    "# dataset & dataloader\n",
    "# args.train_data = \"../data/{}/{}/train.tsv\".format(args.dataset, args.event_type)\n",
    "# args.dev_data = \"../data/{}/{}/dev.tsv\".format(args.dataset, args.event_type)\n",
    "# args.tag_path = \"../conf/{}/{}_tag.dict\".format(args.dataset, args.event_type)\n",
    "\n",
    "#trigger dataset\n",
    "args.trigger_train_data = \"../data/DuEE1.0/trigger/train.tsv\"\n",
    "args.trigger_dev_data = \"../data/DuEE1.0/trigger/dev.tsv\"\n",
    "args.trigger_tag_path = \"../conf/DuEE1.0/trigger_tag.dict\"\n",
    "\n",
    "#role dataset\n",
    "args.role_train_data = \"../data/DuEE1.0/role/train.tsv\"\n",
    "args.role_dev_data = \"../data/DuEE1.0/role/dev.tsv\"\n",
    "args.role_tag_path = \"../conf/DuEE1.0/role_tag.dict\"\n",
    "\n",
    "train_dataset = DuEEJointDataset(args,\n",
    "                                 args.trigger_train_data,\n",
    "                                 args.role_train_data,\n",
    "                                 args.trigger_tag_path,\n",
    "                                 args.role_tag_path,\n",
    "                                 tokenizer)\n",
    "\n",
    "eval_dataset = DuEEJointDataset(args,\n",
    "                                args.trigger_dev_data,\n",
    "                                args.role_dev_data,\n",
    "                                args.trigger_tag_path,\n",
    "                                args.role_tag_path,\n",
    "                                tokenizer)\n",
    "\n",
    "logger.info(\"The nums of the train_dataset features is {}\".format(len(train_dataset)))\n",
    "logger.info(\"The nums of the eval_dataset features is {}\".format(len(eval_dataset)))\n",
    "train_iter = DataLoader(train_dataset,\n",
    "                        shuffle=True,\n",
    "                        batch_size=args.per_gpu_train_batch_size,\n",
    "                        collate_fn=joint_collate_fn,\n",
    "                        num_workers=0)\n",
    "eval_iter = DataLoader(eval_dataset,\n",
    "                       shuffle=False,\n",
    "                       batch_size=args.per_gpu_eval_batch_size,\n",
    "                       collate_fn=joint_collate_fn,\n",
    "                       num_workers=0)\n",
    "\n",
    "# 用于evaluate\n",
    "args.tagger_id2label = train_dataset.tagger_dataset.label_vocab\n",
    "args.num_tagger_classes = len(args.tagger_id2label)\n",
    "tagegr_metric = ChunkEvaluator(label_list=args.tagger_id2label.keys(), suffix=False)\n",
    "\n",
    "args.role_id2label = train_dataset.role_dataset.label_vocab\n",
    "args.num_role_classes = len(args.role_id2label)\n",
    "role_metric = ChunkEvaluator(label_list=args.role_id2label.keys(), suffix=False)"
   ]
  },
  {
   "cell_type": "code",
   "execution_count": 6,
   "metadata": {},
   "outputs": [],
   "source": [
    "from torch import nn\n",
    "from transformers import BertModel\n",
    "from torchcrf import CRF\n",
    "\n",
    "\n",
    "class DuEEEvent_joint_model(nn.Module):\n",
    "    def __init__(self, pretrained_model_path, num_tagger_classes,num_role_class):\n",
    "        super(DuEEEvent_joint_model, self).__init__()\n",
    "        self.bert = BertModel.from_pretrained(pretrained_model_path)\n",
    "        self.tagger_classifier = nn.Linear(self.bert.config.hidden_size, num_tagger_classes)\n",
    "        self.role_classifier = nn.Linear(self.bert.config.hidden_size, num_role_class)\n",
    "        #self.crf = CRF(num_tags=num_classes, batch_first=True)\n",
    "        \n",
    "    def forward(self,\n",
    "                input_ids=None,\n",
    "                token_type_ids=None,\n",
    "                attention_mask=None,\n",
    "                tagger_labels=None,\n",
    "                role_labels=None):\n",
    "        output = self.bert(input_ids,\n",
    "                           token_type_ids=token_type_ids,\n",
    "                           attention_mask=attention_mask)\n",
    "        sequence_output, pooled_output = output[0], output[1]\n",
    "        tagger_logits = self.tagger_classifier(sequence_output)\n",
    "        role_logits=self.role_classifier(sequence_output)\n",
    "#         if labels is not None:\n",
    "#             loss = self.crf(emissions=logits, tags=labels, mask=attention_mask.to(torch.uint8))\n",
    "#             return -1 * loss\n",
    "        return tagger_logits,role_logits"
   ]
  },
  {
   "cell_type": "code",
   "execution_count": 7,
   "metadata": {},
   "outputs": [],
   "source": [
    "# model\n",
    "model = DuEEEvent_joint_model(args.model_name_or_path, num_tagger_classes=args.num_tagger_classes,num_role_class=args.num_role_classes)\n",
    "_=model.to(args.device)"
   ]
  },
  {
   "cell_type": "code",
   "execution_count": 10,
   "metadata": {},
   "outputs": [],
   "source": [
    "def train(args, train_iter, model):\n",
    "    logger.info(\"***** Running train *****\")\n",
    "    # 优化器\n",
    "    no_decay = [\"bias\", \"LayerNorm.weight\"]\n",
    "    bert_param_optimizer = list(model.bert.named_parameters())\n",
    "    linear_param_optimizer = list(model.tagger_classifier.named_parameters())\n",
    "    \n",
    "    linear_param_optimizer.extend(list(model.role_classifier.named_parameters()))\n",
    "    \n",
    "    optimizer_grouped_parameters = [\n",
    "        {'params': [p for n, p in bert_param_optimizer if not any(nd in n for nd in no_decay)],\n",
    "         'weight_decay': args.weight_decay,\n",
    "         'lr': args.learning_rate},\n",
    "        {'params': [p for n, p in bert_param_optimizer if any(nd in n for nd in no_decay)],\n",
    "         'weight_decay': 0.0,\n",
    "         'lr': args.learning_rate},\n",
    "        {'params': [p for n, p in linear_param_optimizer if not any(nd in n for nd in no_decay)],\n",
    "         'weight_decay': args.weight_decay,\n",
    "         'lr': args.linear_learning_rate},\n",
    "        {'params': [p for n, p in linear_param_optimizer if any(nd in n for nd in no_decay)],\n",
    "         'weight_decay': 0.0,\n",
    "         'lr': args.linear_learning_rate},\n",
    "    ]\n",
    "    optimizer = AdamW(optimizer_grouped_parameters,\n",
    "                      lr=args.learning_rate,\n",
    "                      eps=args.adam_epsilon)\n",
    "    # 损失函数\n",
    "    criterion = nn.CrossEntropyLoss(ignore_index=-1).to(args.device)\n",
    "    batch_loss = 0\n",
    "    pbar = ProgressBar(n_total=len(train_iter), desc='Training')\n",
    "    print(\"****\" * 20)\n",
    "    for step, batch in enumerate(train_iter):\n",
    "        for key in batch.keys():\n",
    "            batch[key] = batch[key].to(args.device)\n",
    "        tagger_logits,role_logits = model(\n",
    "            input_ids=batch['all_input_ids'],\n",
    "            attention_mask=batch['all_attention_mask'],\n",
    "            token_type_ids=batch['all_token_type_ids'],\n",
    "            tagger_labels=batch['all_tagger_labels'],\n",
    "            role_labels=batch['all_role_labels']\n",
    "        )\n",
    "\n",
    "        tagger_logits = tagger_logits.view(-1, args.num_tagger_classes)\n",
    "        role_logits = role_logits.view(-1, args.num_role_classes)\n",
    "        # 正常训练\n",
    "        loss1 = criterion(tagger_logits, batch[\"all_tagger_labels\"].view(-1))\n",
    "        loss2= criterion(role_logits, batch[\"all_role_labels\"].view(-1))\n",
    "        loss=loss1+loss2\n",
    "        loss.backward()\n",
    "        #\n",
    "        batch_loss += loss.item()\n",
    "        pbar(step,\n",
    "             {\n",
    "                 'batch_loss': batch_loss / (step + 1),\n",
    "             })\n",
    "        optimizer.step()\n",
    "        model.zero_grad()"
   ]
  },
  {
   "cell_type": "code",
   "execution_count": 14,
   "metadata": {},
   "outputs": [],
   "source": [
    "def evaluate(args, eval_iter, model, tagger_metric,role_metric):\n",
    "    \"\"\"evaluate\"\"\"\n",
    "    tagger_metric.reset()\n",
    "    role_metric.reset()\n",
    "    batch_loss = 0\n",
    "    criterion = nn.CrossEntropyLoss(ignore_index=-1).to(args.device)\n",
    "\n",
    "    model.eval()\n",
    "    with torch.no_grad():\n",
    "        for step, batch in enumerate(eval_iter):\n",
    "            \n",
    "            for key in batch.keys():\n",
    "                batch[key] = batch[key].to(args.device)\n",
    "            tagger_logits,role_logits = model(\n",
    "            input_ids=batch['all_input_ids'],\n",
    "            attention_mask=batch['all_attention_mask'],\n",
    "            token_type_ids=batch['all_token_type_ids'],\n",
    "            tagger_labels=batch['all_tagger_labels'],\n",
    "            role_labels=batch['all_role_labels']\n",
    "            )\n",
    "            #loss = criterion(logits.view(-1, args.num_classes),batch[\"all_labels\"].view(-1))\n",
    "            #batch_loss += loss.item()\n",
    "\n",
    "            \n",
    "            tagger_preds = torch.argmax(tagger_logits, axis=-1)\n",
    "            #preds=torch.tensor(model.crf.decode(logits),dtype=torch.int)\n",
    "            n_infer, n_label, n_correct = tagger_metric.compute(batch[\"all_seq_lens\"], tagger_preds, batch['all_tagger_labels'])\n",
    "            tagger_metric.update(n_infer, n_label, n_correct)\n",
    "            \n",
    "            role_preds = torch.argmax(role_logits, axis=-1)\n",
    "            #preds=torch.tensor(model.crf.decode(logits),dtype=torch.int)\n",
    "            n_infer, n_label, n_correct = role_metric.compute(batch[\"all_seq_lens\"], role_preds, batch['all_role_labels'])\n",
    "            role_metric.update(n_infer, n_label, n_correct)\n",
    "            \n",
    "    precision1, recall1, f1_score1 = tagger_metric.accumulate()\n",
    "    precision2, recall2, f1_score2 = role_metric.accumulate()\n",
    "\n",
    "    return precision1, recall1, f1_score1,precision2, recall2, f1_score2"
   ]
  },
  {
   "cell_type": "code",
   "execution_count": 16,
   "metadata": {},
   "outputs": [
    {
     "name": "stderr",
     "output_type": "stream",
     "text": [
      "05/14/2021 16:38:36 - INFO - root -   ***** Running train *****\n"
     ]
    },
    {
     "name": "stdout",
     "output_type": "stream",
     "text": [
      "********************************************************************************\n",
      "[Training] 870/870 [==============================] 123.5ms/step  batch_loss: 0.3716 "
     ]
    },
    {
     "name": "stderr",
     "output_type": "stream",
     "text": [
      "05/14/2021 16:40:28 - INFO - root -   The trigger F1-score is 0.7793240556660039 , the role F1-score is 0.4533152909336942\n",
      "05/14/2021 16:40:28 - INFO - root -   the best trigger eval f1 is 0.7793 , role eval f1 is 0.4533, saving model !!\n",
      "05/14/2021 16:40:29 - INFO - root -   ***** Running train *****\n"
     ]
    },
    {
     "name": "stdout",
     "output_type": "stream",
     "text": [
      "********************************************************************************\n",
      "[Training] 870/870 [==============================] 124.2ms/step  batch_loss: 0.3314 "
     ]
    },
    {
     "name": "stderr",
     "output_type": "stream",
     "text": [
      "05/14/2021 16:42:22 - INFO - root -   The trigger F1-score is 0.7924596050269299 , the role F1-score is 0.47027285782671135\n",
      "05/14/2021 16:42:22 - INFO - root -   the best trigger eval f1 is 0.7925 , role eval f1 is 0.4703, saving model !!\n",
      "05/14/2021 16:42:23 - INFO - root -   ***** Running train *****\n"
     ]
    },
    {
     "name": "stdout",
     "output_type": "stream",
     "text": [
      "********************************************************************************\n",
      "[Training] 870/870 [==============================] 126.1ms/step  batch_loss: 0.3015 "
     ]
    },
    {
     "name": "stderr",
     "output_type": "stream",
     "text": [
      "05/14/2021 16:44:18 - INFO - root -   The trigger F1-score is 0.782959970620639 , the role F1-score is 0.4859230394544569\n",
      "05/14/2021 16:44:18 - INFO - root -   the best trigger eval f1 is 0.7830 , role eval f1 is 0.4859, saving model !!\n",
      "05/14/2021 16:44:19 - INFO - root -   ***** Running train *****\n"
     ]
    },
    {
     "name": "stdout",
     "output_type": "stream",
     "text": [
      "********************************************************************************\n",
      "[Training] 870/870 [==============================] 125.7ms/step  batch_loss: 0.2773 "
     ]
    },
    {
     "name": "stderr",
     "output_type": "stream",
     "text": [
      "05/14/2021 16:46:13 - INFO - root -   The trigger F1-score is 0.7898433279308482 , the role F1-score is 0.49415975885455915\n",
      "05/14/2021 16:46:13 - INFO - root -   the best trigger eval f1 is 0.7898 , role eval f1 is 0.4942, saving model !!\n",
      "05/14/2021 16:46:14 - INFO - root -   ***** Running train *****\n"
     ]
    },
    {
     "name": "stdout",
     "output_type": "stream",
     "text": [
      "********************************************************************************\n",
      "[Training] 870/870 [==============================] 126.2ms/step  batch_loss: 0.2567 "
     ]
    },
    {
     "name": "stderr",
     "output_type": "stream",
     "text": [
      "05/14/2021 16:48:09 - INFO - root -   The trigger F1-score is 0.7957423380436777 , the role F1-score is 0.5006423559640282\n",
      "05/14/2021 16:48:09 - INFO - root -   the best trigger eval f1 is 0.7957 , role eval f1 is 0.5006, saving model !!\n",
      "05/14/2021 16:48:10 - INFO - root -   ***** Running train *****\n"
     ]
    },
    {
     "name": "stdout",
     "output_type": "stream",
     "text": [
      "********************************************************************************\n",
      "[Training] 870/870 [==============================] 125.9ms/step  batch_loss: 0.2385 "
     ]
    },
    {
     "name": "stderr",
     "output_type": "stream",
     "text": [
      "05/14/2021 16:50:05 - INFO - root -   The trigger F1-score is 0.7921114528677402 , the role F1-score is 0.49222499520061436\n",
      "05/14/2021 16:50:05 - INFO - root -   ***** Running train *****\n"
     ]
    },
    {
     "name": "stdout",
     "output_type": "stream",
     "text": [
      "********************************************************************************\n",
      "[Training] 870/870 [==============================] 124.4ms/step  batch_loss: 0.2259 "
     ]
    },
    {
     "name": "stderr",
     "output_type": "stream",
     "text": [
      "05/14/2021 16:51:58 - INFO - root -   The trigger F1-score is 0.788222384784199 , the role F1-score is 0.5000495687518588\n",
      "05/14/2021 16:51:58 - INFO - root -   ***** Running train *****\n"
     ]
    },
    {
     "name": "stdout",
     "output_type": "stream",
     "text": [
      "********************************************************************************\n",
      "[Training] 870/870 [==============================] 126.0ms/step  batch_loss: 0.2116 "
     ]
    },
    {
     "name": "stderr",
     "output_type": "stream",
     "text": [
      "05/14/2021 16:53:53 - INFO - root -   The trigger F1-score is 0.7897417242633685 , the role F1-score is 0.5011448481831757\n",
      "05/14/2021 16:53:53 - INFO - root -   ***** Running train *****\n"
     ]
    },
    {
     "name": "stdout",
     "output_type": "stream",
     "text": [
      "********************************************************************************\n",
      "[Training] 870/870 [==============================] 126.5ms/step  batch_loss: 0.2006 "
     ]
    },
    {
     "name": "stderr",
     "output_type": "stream",
     "text": [
      "05/14/2021 16:55:49 - INFO - root -   The trigger F1-score is 0.7959633027522935 , the role F1-score is 0.5097256857855362\n",
      "05/14/2021 16:55:49 - INFO - root -   the best trigger eval f1 is 0.7960 , role eval f1 is 0.5097, saving model !!\n",
      "05/14/2021 16:55:49 - INFO - root -   ***** Running train *****\n"
     ]
    },
    {
     "name": "stdout",
     "output_type": "stream",
     "text": [
      "********************************************************************************\n",
      "[Training] 870/870 [==============================] 126.9ms/step  batch_loss: 0.1895 "
     ]
    },
    {
     "name": "stderr",
     "output_type": "stream",
     "text": [
      "05/14/2021 16:57:45 - INFO - root -   The trigger F1-score is 0.7956673398200843 , the role F1-score is 0.5049975739932072\n",
      "05/14/2021 16:57:45 - INFO - root -   ***** Running train *****\n"
     ]
    },
    {
     "name": "stdout",
     "output_type": "stream",
     "text": [
      "********************************************************************************\n",
      "[Training] 870/870 [==============================] 126.1ms/step  batch_loss: 0.1788 "
     ]
    },
    {
     "name": "stderr",
     "output_type": "stream",
     "text": [
      "05/14/2021 16:59:40 - INFO - root -   The trigger F1-score is 0.7961271465107781 , the role F1-score is 0.5029061457837065\n",
      "05/14/2021 16:59:40 - INFO - root -   ***** Running train *****\n"
     ]
    },
    {
     "name": "stdout",
     "output_type": "stream",
     "text": [
      "********************************************************************************\n",
      "[Training] 870/870 [==============================] 126.8ms/step  batch_loss: 0.1717 "
     ]
    },
    {
     "name": "stderr",
     "output_type": "stream",
     "text": [
      "05/14/2021 17:01:36 - INFO - root -   The trigger F1-score is 0.8024327312937708 , the role F1-score is 0.503968253968254\n",
      "05/14/2021 17:01:36 - INFO - root -   the best trigger eval f1 is 0.8024 , role eval f1 is 0.5040, saving model !!\n",
      "05/14/2021 17:01:37 - INFO - root -   ***** Running train *****\n"
     ]
    },
    {
     "name": "stdout",
     "output_type": "stream",
     "text": [
      "********************************************************************************\n",
      "[Training] 870/870 [==============================] 125.3ms/step  batch_loss: 0.1639 "
     ]
    },
    {
     "name": "stderr",
     "output_type": "stream",
     "text": [
      "05/14/2021 17:03:31 - INFO - root -   The trigger F1-score is 0.7930007446016382 , the role F1-score is 0.5005988023952096\n",
      "05/14/2021 17:03:31 - INFO - root -   ***** Running train *****\n"
     ]
    },
    {
     "name": "stdout",
     "output_type": "stream",
     "text": [
      "********************************************************************************\n",
      "[Training] 870/870 [==============================] 124.2ms/step  batch_loss: 0.1560 "
     ]
    },
    {
     "name": "stderr",
     "output_type": "stream",
     "text": [
      "05/14/2021 17:05:25 - INFO - root -   The trigger F1-score is 0.8020813975097565 , the role F1-score is 0.5084978878082327\n",
      "05/14/2021 17:05:25 - INFO - root -   the best trigger eval f1 is 0.8021 , role eval f1 is 0.5085, saving model !!\n",
      "05/14/2021 17:05:25 - INFO - root -   ***** Running train *****\n"
     ]
    },
    {
     "name": "stdout",
     "output_type": "stream",
     "text": [
      "********************************************************************************\n",
      "[Training] 870/870 [==============================] 124.8ms/step  batch_loss: 0.1468 "
     ]
    },
    {
     "name": "stderr",
     "output_type": "stream",
     "text": [
      "05/14/2021 17:07:19 - INFO - root -   The trigger F1-score is 0.7957963399166517 , the role F1-score is 0.5096942220507379\n",
      "05/14/2021 17:07:19 - INFO - root -   ***** Running train *****\n"
     ]
    },
    {
     "name": "stdout",
     "output_type": "stream",
     "text": [
      "********************************************************************************\n",
      "[Training] 870/870 [==============================] 124.9ms/step  batch_loss: 0.1437 "
     ]
    },
    {
     "name": "stderr",
     "output_type": "stream",
     "text": [
      "05/14/2021 17:09:13 - INFO - root -   The trigger F1-score is 0.7837131116921927 , the role F1-score is 0.5098786480794304\n",
      "05/14/2021 17:09:13 - INFO - root -   ***** Running train *****\n"
     ]
    },
    {
     "name": "stdout",
     "output_type": "stream",
     "text": [
      "********************************************************************************\n",
      "[Training] 870/870 [==============================] 125.0ms/step  batch_loss: 0.1372 "
     ]
    },
    {
     "name": "stderr",
     "output_type": "stream",
     "text": [
      "05/14/2021 17:11:07 - INFO - root -   The trigger F1-score is 0.7843210802700675 , the role F1-score is 0.5086022600020361\n",
      "05/14/2021 17:11:07 - INFO - root -   ***** Running train *****\n"
     ]
    },
    {
     "name": "stdout",
     "output_type": "stream",
     "text": [
      "********************************************************************************\n",
      "[Training] 870/870 [==============================] 124.8ms/step  batch_loss: 0.1343 "
     ]
    },
    {
     "name": "stderr",
     "output_type": "stream",
     "text": [
      "05/14/2021 17:13:01 - INFO - root -   The trigger F1-score is 0.7943288528816057 , the role F1-score is 0.5080294919705081\n",
      "05/14/2021 17:13:01 - INFO - root -   ***** Running train *****\n"
     ]
    },
    {
     "name": "stdout",
     "output_type": "stream",
     "text": [
      "********************************************************************************\n",
      "[Training] 870/870 [==============================] 124.6ms/step  batch_loss: 0.1284 "
     ]
    },
    {
     "name": "stderr",
     "output_type": "stream",
     "text": [
      "05/14/2021 17:14:55 - INFO - root -   The trigger F1-score is 0.793943870014771 , the role F1-score is 0.5133176654915785\n",
      "05/14/2021 17:14:55 - INFO - root -   Early stop in 18 epoch!\n"
     ]
    }
   ],
   "source": [
    "best_f1 = 0\n",
    "early_stop = 0\n",
    "for epoch, _ in enumerate(range(int(args.num_train_epochs))):\n",
    "    model.train()\n",
    "    train(args, train_iter, model)\n",
    "    eval_p, eval_r, eval_f1, eval_p2, eval_r2, eval_f12 = evaluate(args, eval_iter, model,tagegr_metric,role_metric)\n",
    "    logger.info(\n",
    "        \"The trigger F1-score is {} , the role F1-score is {}\".format(eval_f1,eval_f12)\n",
    "    )\n",
    "    \n",
    "    sumf1=eval_f1+eval_f12\n",
    "    if sumf1 > best_f1:\n",
    "        early_stop = 0\n",
    "        best_f1 = sumf1\n",
    "        logger.info(\"the best trigger eval f1 is {:.4f} , role eval f1 is {:.4f}, saving model !!\".format(eval_f1,eval_f12))\n",
    "        best_model = copy.deepcopy(model.module if hasattr(model, \"module\") else model)\n",
    "        torch.save(best_model.state_dict(), args.output_model_path)\n",
    "    else:\n",
    "        early_stop += 1\n",
    "        if early_stop == args.early_stop:\n",
    "            logger.info(\"Early stop in {} epoch!\".format(epoch))\n",
    "            break"
   ]
  },
  {
   "cell_type": "code",
   "execution_count": null,
   "metadata": {},
   "outputs": [],
   "source": []
  }
 ],
 "metadata": {
  "kernelspec": {
   "display_name": "pytorch",
   "language": "python",
   "name": "pytorch"
  },
  "language_info": {
   "codemirror_mode": {
    "name": "ipython",
    "version": 3
   },
   "file_extension": ".py",
   "mimetype": "text/x-python",
   "name": "python",
   "nbconvert_exporter": "python",
   "pygments_lexer": "ipython3",
   "version": "3.6.8"
  }
 },
 "nbformat": 4,
 "nbformat_minor": 2
}
